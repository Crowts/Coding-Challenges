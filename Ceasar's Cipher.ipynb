{
 "cells": [
  {
   "cell_type": "markdown",
   "metadata": {},
   "source": [
    "### <font color=blue> Challenge: Ceasar's Cipher</font>\n",
    "A Ceasar shift cipher is one of the oldest known ciphers in cryptography. It works by 'shifting' every letter in a message (the plaintext) by a fixed number of positions along the alphabet. For example, if the message 'hello' was encrypted using a Ceasarean cipher of shift two, the resulting ciphertext would be 'jgnnq'. <br/>\n",
    "\n",
    "Now given this information, and the ciphertext 'htslwfyzqfyntsx', write a piece of code that deciphers it. The message is in English."
   ]
  },
  {
   "cell_type": "markdown",
   "metadata": {},
   "source": [
    "### <font color=blue> Solution</font>"
   ]
  },
  {
   "cell_type": "code",
   "execution_count": 1,
   "metadata": {},
   "outputs": [
    {
     "name": "stdout",
     "output_type": "stream",
     "text": [
      "key: 0, plaintext (decoded) : htslwfyzqfyntsx\n",
      "key: 1, plaintext (decoded) : gsrkvexypexmsrw\n",
      "key: 2, plaintext (decoded) : frqjudwxodwlrqv\n",
      "key: 3, plaintext (decoded) : eqpitcvwncvkqpu\n",
      "key: 4, plaintext (decoded) : dpohsbuvmbujpot\n",
      "key: 5, plaintext (decoded) : congratulations\n",
      "key: 6, plaintext (decoded) : bnmfq`stk`shnmr\n",
      "key: 7, plaintext (decoded) : amlep_rsj_rgmlq\n",
      "key: 8, plaintext (decoded) : `lkdo^qri^qflkp\n",
      "key: 9, plaintext (decoded) : _kjcn]pqh]pekjo\n",
      "key: 10, plaintext (decoded) : ^jibm\\opg\\odjin\n",
      "key: 11, plaintext (decoded) : ]ihal[nof[ncihm\n",
      "key: 12, plaintext (decoded) : \\hg`kZmneZmbhgl\n",
      "key: 13, plaintext (decoded) : [gf_jYlmdYlagfk\n",
      "key: 14, plaintext (decoded) : Zfe^iXklcXk`fej\n",
      "key: 15, plaintext (decoded) : Yed]hWjkbWj_edi\n",
      "key: 16, plaintext (decoded) : Xdc\\gVijaVi^dch\n",
      "key: 17, plaintext (decoded) : Wcb[fUhi`Uh]cbg\n",
      "key: 18, plaintext (decoded) : VbaZeTgh_Tg\\baf\n",
      "key: 19, plaintext (decoded) : Ua`YdSfg^Sf[a`e\n",
      "key: 20, plaintext (decoded) : T`_XcRef]ReZ`_d\n",
      "key: 21, plaintext (decoded) : S_^WbQde\\QdY_^c\n",
      "key: 22, plaintext (decoded) : R^]VaPcd[PcX^]b\n",
      "key: 23, plaintext (decoded) : Q]\\U`ObcZObW]\\a\n",
      "key: 24, plaintext (decoded) : P\\[T_NabYNaV\\[`\n"
     ]
    },
    {
     "data": {
      "text/plain": [
       "'htslwfyzqfyntsxgsrkvexypexmsrwfrqjudwxodwlrqveqpitcvwncvkqpudpohsbuvmbujpotcongratulationsbnmfq`stk`shnmramlep_rsj_rgmlq`lkdo^qri^qflkp_kjcn]pqh]pekjo^jibm\\\\opg\\\\odjin]ihal[nof[ncihm\\\\hg`kZmneZmbhgl[gf_jYlmdYlagfkZfe^iXklcXk`fejYed]hWjkbWj_ediXdc\\\\gVijaVi^dchWcb[fUhi`Uh]cbgVbaZeTgh_Tg\\\\bafUa`YdSfg^Sf[a`eT`_XcRef]ReZ`_dS_^WbQde\\\\QdY_^cR^]VaPcd[PcX^]bQ]\\\\U`ObcZObW]\\\\aP\\\\[T_NabYNaV\\\\[`'"
      ]
     },
     "execution_count": 1,
     "metadata": {},
     "output_type": "execute_result"
    }
   ],
   "source": [
    "# alphabet = ['a', 'b','c', 'd', 'e', 'f', 'g', 'h', 'i', 'j', 'k', 'l', 'm', \n",
    "#             'n', 'o', 'p', 'q', 'r', 's', 't', 'u', 'v', 'w', 'x', 'y', 'z']\n",
    "\n",
    "def letter_to_number(X,Y):\n",
    "    for i in X:\n",
    "        number = ord(i) # refer to ASCII table for characters outside of alphabet\n",
    "        Y.append(number)\n",
    "    return Y\n",
    "\n",
    "def ceasar_decode(ciphertext,P):\n",
    "    for key in range(25):\n",
    "        for j in range(len(ciphertext)):\n",
    "            c_k = ciphertext[j] - key\n",
    "            p = chr(c_k)\n",
    "            P += p\n",
    "        print(r\"key: {}, plaintext (decoded) : {}\".format(key, P[len(ciphertext)*key:len(ciphertext)*(key+1)]))\n",
    "    return P\n",
    "\n",
    "plaintext = ''\n",
    "ciphertext_numstring = []\n",
    "ciphertext = 'htslwfyzqfyntsx'        \n",
    "c_num = letter_to_number(ciphertext,ciphertext_numstring)\n",
    "ceasar_decode(c_num,plaintext)"
   ]
  },
  {
   "cell_type": "code",
   "execution_count": null,
   "metadata": {},
   "outputs": [],
   "source": []
  }
 ],
 "metadata": {
  "kernelspec": {
   "display_name": "Python 3",
   "language": "python",
   "name": "python3"
  },
  "language_info": {
   "codemirror_mode": {
    "name": "ipython",
    "version": 3
   },
   "file_extension": ".py",
   "mimetype": "text/x-python",
   "name": "python",
   "nbconvert_exporter": "python",
   "pygments_lexer": "ipython3",
   "version": "3.6.10"
  }
 },
 "nbformat": 4,
 "nbformat_minor": 4
}
