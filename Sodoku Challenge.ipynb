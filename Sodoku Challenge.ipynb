{
 "cells": [
  {
   "cell_type": "code",
   "execution_count": 1,
   "metadata": {},
   "outputs": [],
   "source": [
    "import numpy as np\n",
    "import math"
   ]
  },
  {
   "cell_type": "markdown",
   "metadata": {},
   "source": [
    "## <font color=blue> Challenge</font>\n",
    "Write a piece of code that can verify the correctness (or lack thereof) of a given sodoku solution. Assume a $9 \\times 9$ sodoku puzzle. "
   ]
  },
  {
   "cell_type": "markdown",
   "metadata": {},
   "source": [
    "## <font color=blue> Solution</font>\n",
    "To solve this problem, we must understand the rules of sodoku. Here's a link to get you up to speed https://sudoku.com/how-to-play/sudoku-rules-for-complete-beginners/. <br/> \n",
    "Knowing the rules helps to verify if a potential solution is actually correct. I have included some comments in the code based on these rules."
   ]
  },
  {
   "cell_type": "code",
   "execution_count": 2,
   "metadata": {},
   "outputs": [],
   "source": [
    "def check_solution(potential_solution):\n",
    "    \n",
    "    # 1. check dimensions (must be 9 by 9)\n",
    "    for row in potential_solution:\n",
    "        if len(row) < 9:\n",
    "            return False\n",
    "        \n",
    "    # 2. check validity of entries (0 < entries <= 9 and entries == integer only)\n",
    "    for row in potential_solution:\n",
    "        for entry in row:\n",
    "            if entry > len(potential_solution):\n",
    "                return False\n",
    "            elif entry < 0:\n",
    "                return False\n",
    "            elif isinstance(entry,float): # testing str against int gives an error by default \n",
    "                return False\n",
    "            \n",
    "    # 3. check duplicates in rows\n",
    "    for i in range(len(potential_solution)):\n",
    "        if len(set(potential_solution[i,:])) == 9 and 0 not in set(potential_solution[i,:]):\n",
    "            return True #print('This row is correct.')\n",
    "        else:\n",
    "            return False #print(\"Row {0:1d} seems to be incorrect. Check your solution again.\".format(i+1))\n",
    "\n",
    "    # 4. check duplicates in columns\n",
    "    for j in range(len(potential_solution)):\n",
    "        if len(set(potential_solution[:,j])) == 9 and 0 not in set(potential_solution[:,j]):\n",
    "            return True\n",
    "        else:\n",
    "            return False \n",
    "\n",
    "    # 5. check duplicates in blocks\n",
    "    for i in range(len(potential_solution)//3):\n",
    "        for j in range(len(potential_solution)//3):\n",
    "            c = np.ravel(potential_solution[i*3:(i+1)*3,j*3:(j+1)*3])\n",
    "\n",
    "            if len(set(c)) == 9 and 0 not in set(c):\n",
    "                return True #print('No duplicates found in the 3 by 3 blocks')\n",
    "            else:\n",
    "                return False"
   ]
  },
  {
   "cell_type": "markdown",
   "metadata": {},
   "source": [
    "## <font color=blue> Test potential solutions</font>"
   ]
  },
  {
   "cell_type": "code",
   "execution_count": 3,
   "metadata": {},
   "outputs": [
    {
     "data": {
      "text/plain": [
       "False"
      ]
     },
     "execution_count": 3,
     "metadata": {},
     "output_type": "execute_result"
    }
   ],
   "source": [
    "A = np.array([ [7, 8, 0, 4, 0, 0, 1, 2, 0],\n",
    "     [6, 0, 0, 0, 7, 5, 0, 0, 9], \n",
    "     [0, 0, 0, 6, 0, 1, 0, 7, 8],\n",
    "     [0, 0, 7, 0, 4, 0, 2, 6, 0],\n",
    "     [0, 0, 1, 0, 5, 0, 9, 3, 0],\n",
    "     [9, 0, 4, 0, 6, 0, 0, 0, 5],\n",
    "     [0, 7, 0, 3, 0, 0, 0, 1, 2],\n",
    "     [1, 2, 0, 0, 0, 7, 4, 0, 0],\n",
    "     [0, 4, 9, 2, 0, 6, 0, 0, 7]\n",
    "   ])\n",
    "\n",
    "check_solution(A)"
   ]
  },
  {
   "cell_type": "code",
   "execution_count": 4,
   "metadata": {},
   "outputs": [
    {
     "data": {
      "text/plain": [
       "True"
      ]
     },
     "execution_count": 4,
     "metadata": {},
     "output_type": "execute_result"
    }
   ],
   "source": [
    "sol= np.array([ [7, 8, 5, 4, 3, 9, 1, 2, 6],\n",
    "        [6, 1, 2, 8, 7, 5, 3, 4, 9], \n",
    "        [4, 9, 3, 6, 2, 1, 5, 7, 8],\n",
    "        [8, 5, 7, 9, 4, 3, 2, 6, 1],\n",
    "        [2, 6, 1, 7, 5, 8, 9, 3, 4],\n",
    "        [9, 3, 4, 1, 6, 2, 7, 8, 5],\n",
    "        [5, 7, 8, 3, 9, 4, 6, 1, 2],\n",
    "        [1, 2, 6, 5, 8, 7, 4, 9, 3],\n",
    "        [3, 4, 9, 2, 1, 6, 8, 5, 7]\n",
    "     ])\n",
    "check_solution(sol)"
   ]
  },
  {
   "cell_type": "markdown",
   "metadata": {},
   "source": [
    "## <font color=blue> Useful References</font>\n",
    "1. https://www.youtube.com/watch?v=eqUwSA0xI-s"
   ]
  }
 ],
 "metadata": {
  "kernelspec": {
   "display_name": "Python 3",
   "language": "python",
   "name": "python3"
  },
  "language_info": {
   "codemirror_mode": {
    "name": "ipython",
    "version": 3
   },
   "file_extension": ".py",
   "mimetype": "text/x-python",
   "name": "python",
   "nbconvert_exporter": "python",
   "pygments_lexer": "ipython3",
   "version": "3.6.10"
  }
 },
 "nbformat": 4,
 "nbformat_minor": 4
}
